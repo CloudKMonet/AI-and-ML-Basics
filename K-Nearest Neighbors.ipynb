{
 "cells": [
  {
   "cell_type": "markdown",
   "id": "91f93bb7",
   "metadata": {},
   "source": [
    "# K-Nearest Neighbors (KNN)\n",
    "\n",
    "In this in-class assignment, you will be applying the K-Nearest Neighbors algorithm to a new dataset. This will test your understanding of the KNN algorithm, data preprocessing, model training, and evaluation that you learned in Lab 4."
   ]
  },
  {
   "cell_type": "markdown",
   "id": "8100289e",
   "metadata": {},
   "source": [
    "## Objectives\n",
    "\n",
    "1. Load and preprocess the dataset.\n",
    "2. Perform exploratory data analysis.\n",
    "3. Implement the KNN algorithm.\n",
    "4. Train and test your model.\n",
    "5. Evaluate the model's performance."
   ]
  },
  {
   "cell_type": "markdown",
   "id": "e4e01985",
   "metadata": {},
   "source": [
    "## Dataset\n",
    "\n",
    "For this assignment, we will be using a synthetic dataset that simulates customer behavior data. The dataset contains various features related to customer's purchasing behavior and a target variable indicating customer segment. Your task will be to predict the customer segment based on the given features."
   ]
  },
  {
   "cell_type": "code",
   "execution_count": 76,
   "id": "e6065267",
   "metadata": {},
   "outputs": [],
   "source": [
    "#Load relevant librairies\n",
    "import numpy as np\n",
    "import matplotlib.pyplot as plt\n",
    "import pandas as pd\n",
    "import numpy as np\n",
    "from sklearn import preprocessing\n",
    "%matplotlib inline"
   ]
  },
  {
   "cell_type": "code",
   "execution_count": 77,
   "id": "3ea8a4b4",
   "metadata": {},
   "outputs": [],
   "source": [
    "# Surpress warnings:\n",
    "def warn(*args, **kwargs):\n",
    "    pass\n",
    "import warnings\n",
    "warnings.warn = warn"
   ]
  },
  {
   "cell_type": "markdown",
   "id": "9f25e8f8",
   "metadata": {},
   "source": [
    "## Instructions\n",
    "\n",
    "1. Load the dataset provided in the file `HW3_customer_data.csv`.\n",
    "2. Visualize and normalize the data.   \n",
    "4. Split the dataset into training and testing sets.\n",
    "5. Use the KNeighborsClassifier from sklearn to train a model on the training set. Experiment with different values of `k`.\n",
    "6. Predict the target on the testing set.\n",
    "7. Evaluate the model using confusion matrix and classification report.\n",
    "8. Summarize your findings regarding the best `k` and the model's performance. Answer a couple of challenging questions.\n"
   ]
  },
  {
   "cell_type": "markdown",
   "id": "d0a01a9c",
   "metadata": {},
   "source": [
    "### Step 1: Load the Dataset\n",
    "\n",
    "Use pandas to load the dataset. Observe the first few rows, and understand the features and target variable."
   ]
  },
  {
   "cell_type": "code",
   "execution_count": 78,
   "id": "b833024e",
   "metadata": {},
   "outputs": [
    {
     "data": {
      "text/html": [
       "<div>\n",
       "<style scoped>\n",
       "    .dataframe tbody tr th:only-of-type {\n",
       "        vertical-align: middle;\n",
       "    }\n",
       "\n",
       "    .dataframe tbody tr th {\n",
       "        vertical-align: top;\n",
       "    }\n",
       "\n",
       "    .dataframe thead th {\n",
       "        text-align: right;\n",
       "    }\n",
       "</style>\n",
       "<table border=\"1\" class=\"dataframe\">\n",
       "  <thead>\n",
       "    <tr style=\"text-align: right;\">\n",
       "      <th></th>\n",
       "      <th>Age</th>\n",
       "      <th>Annual Income (k$)</th>\n",
       "      <th>Spending Score (1-100)</th>\n",
       "      <th>Customer Segment</th>\n",
       "    </tr>\n",
       "  </thead>\n",
       "  <tbody>\n",
       "    <tr>\n",
       "      <th>0</th>\n",
       "      <td>62</td>\n",
       "      <td>94</td>\n",
       "      <td>78</td>\n",
       "      <td>Segment B</td>\n",
       "    </tr>\n",
       "    <tr>\n",
       "      <th>1</th>\n",
       "      <td>65</td>\n",
       "      <td>28</td>\n",
       "      <td>76</td>\n",
       "      <td>Segment B</td>\n",
       "    </tr>\n",
       "    <tr>\n",
       "      <th>2</th>\n",
       "      <td>18</td>\n",
       "      <td>132</td>\n",
       "      <td>57</td>\n",
       "      <td>Segment B</td>\n",
       "    </tr>\n",
       "    <tr>\n",
       "      <th>3</th>\n",
       "      <td>21</td>\n",
       "      <td>100</td>\n",
       "      <td>17</td>\n",
       "      <td>Segment A</td>\n",
       "    </tr>\n",
       "    <tr>\n",
       "      <th>4</th>\n",
       "      <td>21</td>\n",
       "      <td>63</td>\n",
       "      <td>25</td>\n",
       "      <td>Segment A</td>\n",
       "    </tr>\n",
       "    <tr>\n",
       "      <th>...</th>\n",
       "      <td>...</td>\n",
       "      <td>...</td>\n",
       "      <td>...</td>\n",
       "      <td>...</td>\n",
       "    </tr>\n",
       "    <tr>\n",
       "      <th>95</th>\n",
       "      <td>32</td>\n",
       "      <td>19</td>\n",
       "      <td>70</td>\n",
       "      <td>Segment A</td>\n",
       "    </tr>\n",
       "    <tr>\n",
       "      <th>96</th>\n",
       "      <td>33</td>\n",
       "      <td>82</td>\n",
       "      <td>54</td>\n",
       "      <td>Segment C</td>\n",
       "    </tr>\n",
       "    <tr>\n",
       "      <th>97</th>\n",
       "      <td>38</td>\n",
       "      <td>124</td>\n",
       "      <td>81</td>\n",
       "      <td>Segment B</td>\n",
       "    </tr>\n",
       "    <tr>\n",
       "      <th>98</th>\n",
       "      <td>53</td>\n",
       "      <td>26</td>\n",
       "      <td>63</td>\n",
       "      <td>Segment B</td>\n",
       "    </tr>\n",
       "    <tr>\n",
       "      <th>99</th>\n",
       "      <td>41</td>\n",
       "      <td>101</td>\n",
       "      <td>9</td>\n",
       "      <td>Segment C</td>\n",
       "    </tr>\n",
       "  </tbody>\n",
       "</table>\n",
       "<p>100 rows × 4 columns</p>\n",
       "</div>"
      ],
      "text/plain": [
       "    Age  Annual Income (k$)  Spending Score (1-100) Customer Segment\n",
       "0    62                  94                      78        Segment B\n",
       "1    65                  28                      76        Segment B\n",
       "2    18                 132                      57        Segment B\n",
       "3    21                 100                      17        Segment A\n",
       "4    21                  63                      25        Segment A\n",
       "..  ...                 ...                     ...              ...\n",
       "95   32                  19                      70        Segment A\n",
       "96   33                  82                      54        Segment C\n",
       "97   38                 124                      81        Segment B\n",
       "98   53                  26                      63        Segment B\n",
       "99   41                 101                       9        Segment C\n",
       "\n",
       "[100 rows x 4 columns]"
      ]
     },
     "execution_count": 78,
     "metadata": {},
     "output_type": "execute_result"
    }
   ],
   "source": [
    "# Code cell for Step 1\n",
    "# Load the data file and display the first few rows to inspect the dataset.\n",
    "df = pd.read_csv('HW3_customer_data.csv')\n",
    "df.head(100)"
   ]
  },
  {
   "cell_type": "markdown",
   "id": "9ebddd4e",
   "metadata": {},
   "source": [
    "### Step 2: Visualize and Normalize Data\n"
   ]
  },
  {
   "cell_type": "code",
   "execution_count": 79,
   "id": "3e3b21b4",
   "metadata": {},
   "outputs": [
    {
     "data": {
      "text/html": [
       "<div>\n",
       "<style scoped>\n",
       "    .dataframe tbody tr th:only-of-type {\n",
       "        vertical-align: middle;\n",
       "    }\n",
       "\n",
       "    .dataframe tbody tr th {\n",
       "        vertical-align: top;\n",
       "    }\n",
       "\n",
       "    .dataframe thead th {\n",
       "        text-align: right;\n",
       "    }\n",
       "</style>\n",
       "<table border=\"1\" class=\"dataframe\">\n",
       "  <thead>\n",
       "    <tr style=\"text-align: right;\">\n",
       "      <th></th>\n",
       "      <th>Age</th>\n",
       "      <th>Annual Income (k$)</th>\n",
       "      <th>Spending Score (1-100)</th>\n",
       "    </tr>\n",
       "  </thead>\n",
       "  <tbody>\n",
       "    <tr>\n",
       "      <th>count</th>\n",
       "      <td>100.000000</td>\n",
       "      <td>100.000000</td>\n",
       "      <td>100.000000</td>\n",
       "    </tr>\n",
       "    <tr>\n",
       "      <th>mean</th>\n",
       "      <td>41.570000</td>\n",
       "      <td>71.230000</td>\n",
       "      <td>47.770000</td>\n",
       "    </tr>\n",
       "    <tr>\n",
       "      <th>std</th>\n",
       "      <td>15.537023</td>\n",
       "      <td>34.383122</td>\n",
       "      <td>27.324409</td>\n",
       "    </tr>\n",
       "    <tr>\n",
       "      <th>min</th>\n",
       "      <td>18.000000</td>\n",
       "      <td>15.000000</td>\n",
       "      <td>1.000000</td>\n",
       "    </tr>\n",
       "    <tr>\n",
       "      <th>25%</th>\n",
       "      <td>29.000000</td>\n",
       "      <td>44.250000</td>\n",
       "      <td>27.500000</td>\n",
       "    </tr>\n",
       "    <tr>\n",
       "      <th>50%</th>\n",
       "      <td>41.000000</td>\n",
       "      <td>70.000000</td>\n",
       "      <td>44.500000</td>\n",
       "    </tr>\n",
       "    <tr>\n",
       "      <th>75%</th>\n",
       "      <td>55.250000</td>\n",
       "      <td>100.250000</td>\n",
       "      <td>72.000000</td>\n",
       "    </tr>\n",
       "    <tr>\n",
       "      <th>max</th>\n",
       "      <td>69.000000</td>\n",
       "      <td>132.000000</td>\n",
       "      <td>98.000000</td>\n",
       "    </tr>\n",
       "  </tbody>\n",
       "</table>\n",
       "</div>"
      ],
      "text/plain": [
       "              Age  Annual Income (k$)  Spending Score (1-100)\n",
       "count  100.000000          100.000000              100.000000\n",
       "mean    41.570000           71.230000               47.770000\n",
       "std     15.537023           34.383122               27.324409\n",
       "min     18.000000           15.000000                1.000000\n",
       "25%     29.000000           44.250000               27.500000\n",
       "50%     41.000000           70.000000               44.500000\n",
       "75%     55.250000          100.250000               72.000000\n",
       "max     69.000000          132.000000               98.000000"
      ]
     },
     "execution_count": 79,
     "metadata": {},
     "output_type": "execute_result"
    }
   ],
   "source": [
    "# Code cell for Step 2.1\n",
    "# Show descriptive stats and intepret the results\n",
    "df = pd.read_csv('HW3_customer_data.csv')\n",
    "df.describe()"
   ]
  },
  {
   "cell_type": "code",
   "execution_count": 80,
   "id": "9d3b828a-67d8-4f7a-ae3a-1bcbc07ca6fb",
   "metadata": {},
   "outputs": [
    {
     "data": {
      "image/png": "[encoded data removed]",
      "text/plain": [
       "<Figure size 640x480 with 4 Axes>"
      ]
     },
     "metadata": {},
     "output_type": "display_data"
    }
   ],
   "source": [
    "# Code cell for Step 2.2\n",
    "# Show histograms of a couple of key variables.\n",
    "viz = df[['Age','Annual Income (k$)','Spending Score (1-100)','Customer Segment']]\n",
    "viz.hist()\n",
    "plt.show()"
   ]
  },
  {
   "cell_type": "code",
   "execution_count": 81,
   "id": "2971f597-d4a1-455e-8c5d-8dde37318dda",
   "metadata": {},
   "outputs": [
    {
     "name": "stdout",
     "output_type": "stream",
     "text": [
      "[[ 1.32154804  0.66557978  1.11191034]\n",
      " [ 1.51560796 -1.26363698  1.03834697]\n",
      " [-1.52466408  1.77634095  0.33949495]\n",
      " [-1.33060417  0.84096313 -1.13177245]\n",
      " [-1.33060417 -0.24056748 -0.83751897]\n",
      " [ 0.99811484 -0.21133693 -0.65361055]\n",
      " [-0.94248433  0.37327421 -0.94786403]\n",
      " [-0.29561794 -0.44518138 -0.80073729]\n",
      " [-0.16624466 -0.62056473  1.2222554 ]\n",
      " [ 1.70966787  0.22712143  0.4866217 ]\n",
      " [ 0.80405492  1.1332687   0.52340338]\n",
      " [-0.03687138  0.37327421  1.33260046]\n",
      " [-1.13654425  1.10403814 -0.50648381]\n",
      " [ 0.02781525 -1.64363422 -0.54326549]\n",
      " [ 0.02781525  1.65941873  0.85443855]\n",
      " [-0.74842441 -0.18210637  1.40616383]\n",
      " [-1.45997745 -0.59133417 -0.58004718]\n",
      " [ 0.9334282  -0.64979528 -1.24211751]\n",
      " [ 0.99811484 -0.24056748  0.89122023]\n",
      " [-0.03687138  1.07480758  0.33949495]\n",
      " [ 1.45092132 -1.55594255 -0.83751897]\n",
      " [ 0.02781525  1.22096037  1.18547372]\n",
      " [-0.42499122 -0.41595083 -0.21223032]\n",
      " [ 0.86874156  0.60711867 -1.05820908]\n",
      " [ 0.09250189  1.63018817 -0.24901201]\n",
      " [-0.68373778  1.36711315  0.26593158]\n",
      " [-1.00717097 -1.02979253  1.18547372]\n",
      " [-0.94248433  0.49019644 -1.31568088]\n",
      " [-0.2309313  -1.64363422 -0.32257538]\n",
      " [ 1.77435451 -1.35132865  1.70041731]\n",
      " [-0.48967786  1.68864928 -1.68349773]\n",
      " [ 1.77435451 -0.38672027  1.77398068]\n",
      " [-1.20123089  0.05173809 -0.10188527]\n",
      " [-0.5543645  -0.97133141  1.51650888]\n",
      " [ 1.51560796  0.08096864 -0.83751897]\n",
      " [-1.52466408 -1.58517311  0.74409349]\n",
      " [-0.36030458  1.22096037  1.29581877]\n",
      " [ 0.73936829  0.16866031 -1.60993436]\n",
      " [ 0.02781525 -0.62056473  1.07512866]\n",
      " [ 1.64498123  1.10403814 -0.43292044]\n",
      " [ 1.77435451  0.3148131   1.44294551]\n",
      " [ 0.35124845  0.75327146  0.52340338]\n",
      " [-0.29561794 -0.2990286   0.81765686]\n",
      " [-0.29561794  1.25019093  1.4797272 ]\n",
      " [-0.61905114 -1.05902308 -0.13866695]\n",
      " [ 0.99811484  0.7240409  -0.54326549]\n",
      " [ 0.54530837 -0.18210637 -1.31568088]\n",
      " [-1.45997745 -0.85440918  1.36938214]\n",
      " [-0.94248433 -1.23440643 -1.35246257]\n",
      " [ 0.54530837 -0.44518138  0.26593158]\n",
      " [ 0.48062173  0.05173809 -0.35935706]\n",
      " [-0.87779769  0.25635199 -0.69039223]\n",
      " [-0.03687138 -0.59133417 -1.64671605]\n",
      " [ 0.73936829 -1.35132865 -0.72717392]\n",
      " [-0.81311105  0.87019368  1.33260046]\n",
      " [ 1.70966787 -0.38672027  1.55329057]\n",
      " [ 0.28656181  1.39634371 -0.87430066]\n",
      " [ 0.67468165 -1.3220981   0.2291499 ]\n",
      " [-1.52466408 -1.58517311  0.15558653]\n",
      " [-1.52466408 -0.15287581 -0.0283219 ]\n",
      " [ 0.80405492  0.69481034 -0.98464571]\n",
      " [-1.20123089 -0.7082564   0.2291499 ]\n",
      " [ 0.9334282  -0.06518414 -0.65361055]\n",
      " [ 1.06280148 -1.64363422  0.74409349]\n",
      " [-0.42499122 -0.53287306 -0.43292044]\n",
      " [-0.5543645  -1.08825364 -0.28579369]\n",
      " [-1.26591753 -0.2990286  -1.38924425]\n",
      " [ 1.12748812 -0.41595083  0.9647836 ]\n",
      " [ 1.19217476  1.71787984 -0.21223032]\n",
      " [ 0.48062173 -0.00672303 -0.87430066]\n",
      " [-1.45997745  0.1101992  -1.60993436]\n",
      " [-1.45997745  1.39634371 -0.0283219 ]\n",
      " [ 0.99811484  0.60711867  1.59007225]\n",
      " [ 1.12748812 -0.76671751  0.11880484]\n",
      " [ 0.73936829 -0.94210085 -1.60993436]\n",
      " [ 0.9334282  -1.58517311 -0.58004718]\n",
      " [-0.81311105 -1.55594255 -1.38924425]\n",
      " [ 1.45092132  1.10403814 -1.35246257]\n",
      " [-0.36030458  1.22096037 -0.72717392]\n",
      " [ 0.22187517  1.48403538 -0.06510358]\n",
      " [-1.52466408 -1.26363698  0.89122023]\n",
      " [-0.61905114  1.63018817 -0.28579369]\n",
      " [ 0.73936829 -0.47441194  0.52340338]\n",
      " [-0.74842441  0.46096589  1.40616383]\n",
      " [ 1.19217476 -1.08825364  1.84754405]\n",
      " [-0.2309313   1.1332687  -0.10188527]\n",
      " [-0.81311105  0.46096589 -0.46970212]\n",
      " [-1.26591753 -0.88363974 -0.46970212]\n",
      " [-1.13654425  0.28558254  1.51650888]\n",
      " [-1.26591753 -0.12364526 -0.50648381]\n",
      " [ 1.51560796  0.3148131  -1.53637099]\n",
      " [-1.33060417  1.51326594 -0.39613875]\n",
      " [-0.74842441  0.13942976 -1.72027942]\n",
      " [ 0.80405492 -1.23440643  1.03834697]\n",
      " [ 1.06280148  1.16249925 -0.46970212]\n",
      " [-0.61905114 -1.526712    0.81765686]\n",
      " [-0.5543645   0.3148131   0.2291499 ]\n",
      " [-0.2309313   1.5424965   1.2222554 ]\n",
      " [ 0.73936829 -1.3220981   0.56018507]\n",
      " [-0.03687138  0.87019368 -1.42602594]]\n"
     ]
    }
   ],
   "source": [
    "# Code cell for Step 2.3\n",
    "# Normalize the variables for the machine learning model\n",
    "#This will be my dependent vairables\n",
    "\n",
    "X = df [['Age','Annual Income (k$)','Spending Score (1-100)']].values\n",
    "X = preprocessing.StandardScaler().fit(X).transform(X.astype(float))\n",
    "#X = [0:5]\n",
    "print(X)"
   ]
  },
  {
   "cell_type": "code",
   "execution_count": 82,
   "id": "ee185989",
   "metadata": {},
   "outputs": [
    {
     "data": {
      "text/html": [
       "<div>\n",
       "<style scoped>\n",
       "    .dataframe tbody tr th:only-of-type {\n",
       "        vertical-align: middle;\n",
       "    }\n",
       "\n",
       "    .dataframe tbody tr th {\n",
       "        vertical-align: top;\n",
       "    }\n",
       "\n",
       "    .dataframe thead th {\n",
       "        text-align: right;\n",
       "    }\n",
       "</style>\n",
       "<table border=\"1\" class=\"dataframe\">\n",
       "  <thead>\n",
       "    <tr style=\"text-align: right;\">\n",
       "      <th></th>\n",
       "      <th>Age</th>\n",
       "      <th>Annual Income (k$)</th>\n",
       "      <th>Spending Score (1-100)</th>\n",
       "      <th>Customer Segment</th>\n",
       "    </tr>\n",
       "  </thead>\n",
       "  <tbody>\n",
       "    <tr>\n",
       "      <th>0</th>\n",
       "      <td>62</td>\n",
       "      <td>94</td>\n",
       "      <td>78</td>\n",
       "      <td>Segment B</td>\n",
       "    </tr>\n",
       "    <tr>\n",
       "      <th>1</th>\n",
       "      <td>65</td>\n",
       "      <td>28</td>\n",
       "      <td>76</td>\n",
       "      <td>Segment B</td>\n",
       "    </tr>\n",
       "    <tr>\n",
       "      <th>2</th>\n",
       "      <td>18</td>\n",
       "      <td>132</td>\n",
       "      <td>57</td>\n",
       "      <td>Segment B</td>\n",
       "    </tr>\n",
       "    <tr>\n",
       "      <th>3</th>\n",
       "      <td>21</td>\n",
       "      <td>100</td>\n",
       "      <td>17</td>\n",
       "      <td>Segment A</td>\n",
       "    </tr>\n",
       "    <tr>\n",
       "      <th>4</th>\n",
       "      <td>21</td>\n",
       "      <td>63</td>\n",
       "      <td>25</td>\n",
       "      <td>Segment A</td>\n",
       "    </tr>\n",
       "    <tr>\n",
       "      <th>5</th>\n",
       "      <td>57</td>\n",
       "      <td>64</td>\n",
       "      <td>30</td>\n",
       "      <td>Segment A</td>\n",
       "    </tr>\n",
       "    <tr>\n",
       "      <th>6</th>\n",
       "      <td>27</td>\n",
       "      <td>84</td>\n",
       "      <td>22</td>\n",
       "      <td>Segment A</td>\n",
       "    </tr>\n",
       "    <tr>\n",
       "      <th>7</th>\n",
       "      <td>37</td>\n",
       "      <td>56</td>\n",
       "      <td>26</td>\n",
       "      <td>Segment A</td>\n",
       "    </tr>\n",
       "    <tr>\n",
       "      <th>8</th>\n",
       "      <td>39</td>\n",
       "      <td>50</td>\n",
       "      <td>81</td>\n",
       "      <td>Segment A</td>\n",
       "    </tr>\n",
       "    <tr>\n",
       "      <th>9</th>\n",
       "      <td>68</td>\n",
       "      <td>79</td>\n",
       "      <td>61</td>\n",
       "      <td>Segment B</td>\n",
       "    </tr>\n",
       "  </tbody>\n",
       "</table>\n",
       "</div>"
      ],
      "text/plain": [
       "   Age  Annual Income (k$)  Spending Score (1-100) Customer Segment\n",
       "0   62                  94                      78        Segment B\n",
       "1   65                  28                      76        Segment B\n",
       "2   18                 132                      57        Segment B\n",
       "3   21                 100                      17        Segment A\n",
       "4   21                  63                      25        Segment A\n",
       "5   57                  64                      30        Segment A\n",
       "6   27                  84                      22        Segment A\n",
       "7   37                  56                      26        Segment A\n",
       "8   39                  50                      81        Segment A\n",
       "9   68                  79                      61        Segment B"
      ]
     },
     "execution_count": 82,
     "metadata": {},
     "output_type": "execute_result"
    }
   ],
   "source": [
    "#This will be my independet variable\n",
    "y = df['Customer Segment'].values\n",
    "y[0:5]\n",
    "\n",
    "df.head(10)"
   ]
  },
  {
   "cell_type": "markdown",
   "id": "294d9f9f",
   "metadata": {},
   "source": [
    "### Step 3: Train-Test Split\n",
    "\n",
    "Split the data into training and testing sets."
   ]
  },
  {
   "cell_type": "code",
   "execution_count": 125,
   "id": "6ecc8b22",
   "metadata": {},
   "outputs": [
    {
     "name": "stdout",
     "output_type": "stream",
     "text": [
      "Train set: (80, 3) (80,)\n",
      "Test set: (20, 3) (20,)\n"
     ]
    }
   ],
   "source": [
    "# Code cell for Step 3\n",
    "# Split the data using the 80/20 rule.\n",
    "from sklearn.model_selection import train_test_split\n",
    "X_train, X_test, y_train, y_test = train_test_split( X, y, test_size=0.2, random_state=0)\n",
    "print ('Train set:', X_train.shape,  y_train.shape)\n",
    "print ('Test set:', X_test.shape,  y_test.shape)"
   ]
  },
  {
   "cell_type": "markdown",
   "id": "16fd3192",
   "metadata": {},
   "source": [
    "### Step 4: Building and Training the Model\n",
    "\n",
    "Build the KNN model using sklearn and train it on the training set. "
   ]
  },
  {
   "cell_type": "code",
   "execution_count": 126,
   "id": "e861edf1",
   "metadata": {},
   "outputs": [
    {
     "name": "stdout",
     "output_type": "stream",
     "text": [
      "Train set Accuracy:  0.6\n",
      "Test set Accuracy:  0.15\n"
     ]
    }
   ],
   "source": [
    "# Code cell for Step 4\n",
    "# Build and train your KNN model here\n",
    "k = 4\n",
    "#Train Model and Predict  \n",
    "neigh = KNeighborsClassifier(n_neighbors = k).fit(X_train,y_train)\n",
    "neigh\n",
    "\n",
    "yhat = neigh.predict(X_test)\n",
    "yhat[0:5]\n",
    "\n",
    "from sklearn import metrics\n",
    "print(\"Train set Accuracy: \", metrics.accuracy_score(y_train, neigh.predict(X_train)))\n",
    "print(\"Test set Accuracy: \", metrics.accuracy_score(y_test, yhat))"
   ]
  },
  {
   "cell_type": "markdown",
   "id": "8013a2c8",
   "metadata": {},
   "source": [
    "### Step 5: Predictions and Evaluations\n",
    "\n",
    "Use your trained model to make predictions on the test set and evaluate the model's performance."
   ]
  },
  {
   "cell_type": "code",
   "execution_count": 127,
   "id": "9d8e9efb",
   "metadata": {},
   "outputs": [
    {
     "data": {
      "text/plain": [
       "KNeighborsClassifier(n_neighbors=4)"
      ]
     },
     "execution_count": 127,
     "metadata": {},
     "output_type": "execute_result"
    }
   ],
   "source": [
    "# Code cell for Step 5\n",
    "# Make predictions and evaluate your model here\n",
    "from sklearn.neighbors import KNeighborsClassifier\n",
    "k = 4\n",
    "#Train Model and Predict  \n",
    "neigh = KNeighborsClassifier(n_neighbors = k).fit(X_train,y_train)\n",
    "neigh"
   ]
  },
  {
   "cell_type": "code",
   "execution_count": 128,
   "id": "c7769918",
   "metadata": {},
   "outputs": [
    {
     "data": {
      "text/plain": [
       "array(['Segment A', 'Segment C', 'Segment A', 'Segment B', 'Segment B'],\n",
       "      dtype=object)"
      ]
     },
     "execution_count": 128,
     "metadata": {},
     "output_type": "execute_result"
    }
   ],
   "source": [
    "yhat = neigh.predict(X_test)\n",
    "yhat[0:5]"
   ]
  },
  {
   "cell_type": "markdown",
   "id": "63ba1f88-3f59-498a-a192-2a2f9796299e",
   "metadata": {},
   "source": [
    "### Step 6: Evaluate Different Ks (advanced).\n",
    "\n",
    "Use a python looping structure to evaluate different Ks and determine the optimal value of `k` for the KNN model. <br>\n",
    "Plot the model accuracy versus the K value, including  <br>\n",
    "Plot the model error rate versus the K value. <br>\n",
    "\n",
    "Briefly interpret these two charts."
   ]
  },
  {
   "cell_type": "code",
   "execution_count": 136,
   "id": "8217bbd7-5955-42d7-823d-c9d4181d1405",
   "metadata": {},
   "outputs": [
    {
     "data": {
      "text/plain": [
       "array([0.35, 0.1 , 0.3 , 0.15, 0.35, 0.4 , 0.35, 0.35, 0.4 , 0.3 , 0.3 ])"
      ]
     },
     "execution_count": 136,
     "metadata": {},
     "output_type": "execute_result"
    }
   ],
   "source": [
    "# Code cell for Step 6.1\n",
    "# Evaluate different Ks and determine the optimal value of k for the KNN model.\n",
    "# write your code here\n",
    "\n",
    "Ks = 12\n",
    "mean_acc = np.zeros((Ks-1))\n",
    "std_acc = np.zeros((Ks-1))\n",
    "\n",
    "for n in range(1,Ks):\n",
    "    \n",
    "    #Train Model and Predict- the highest k is the shape of your data frame; NOT, your whole data set.\n",
    "    neigh = KNeighborsClassifier(n_neighbors = n).fit(X_train,y_train)\n",
    "    yhat=neigh.predict(X_test)\n",
    "    mean_acc[n-1] = metrics.accuracy_score(y_test, yhat)\n",
    "\n",
    "    #This line calculates the standard error of the model's predictions by dividing the standard deviation \n",
    "    #of the boolean comparison between predicted and actual values (yhat == y_test) by the square root of \n",
    "    #the number of predictions, and stores it in the std_acc array starting at index n-1.\n",
    "    std_acc[n-1]=np.std(yhat==y_test)/np.sqrt(yhat.shape[0])\n",
    "\n",
    "mean_acc\n",
    "#std_acc\n"
   ]
  },
  {
   "cell_type": "code",
   "execution_count": 137,
   "id": "9996b38e-2d6a-46b9-bc6a-ea918afc8190",
   "metadata": {},
   "outputs": [
    {
     "data": {
      "image/png": "[encoded data removed]",
      "text/plain": [
       "<Figure size 640x480 with 1 Axes>"
      ]
     },
     "metadata": {},
     "output_type": "display_data"
    }
   ],
   "source": [
    "# Code cell for Step 6.2\n",
    "# Plot the model accuracy versus the K value, including shaded areas representing the variability of accuracy within 1 standard deviation from the mean, \n",
    "# and 3 standard deviations from the mean, respectively.\n",
    "\n",
    "plt.plot(range(1,Ks),mean_acc,'pink')\n",
    "#plt.fill_between(range(1,Ks),mean_acc - 1 * std_acc,mean_acc + 1 * std_acc, alpha=0.10)\n",
    "#plt.fill_between(range(1,Ks),mean_acc - 3 * std_acc,mean_acc + 3 * std_acc, alpha=0.10,color=\"green\")\n",
    "plt.legend(('Accuracy ', '+/- 1xstd','+/- 3xstd'))\n",
    "plt.ylabel('Accuracy ')\n",
    "plt.xlabel('Number of Neighbors (K)')\n",
    "plt.tight_layout()\n",
    "plt.show()"
   ]
  },
  {
   "cell_type": "code",
   "execution_count": 138,
   "id": "a7501a9f-a411-40e0-b574-a8fde25895ab",
   "metadata": {},
   "outputs": [
    {
     "data": {
      "text/plain": [
       "array([0.35, 0.1 , 0.3 , 0.15, 0.35, 0.4 , 0.35, 0.35, 0.4 , 0.3 , 0.3 ])"
      ]
     },
     "execution_count": 138,
     "metadata": {},
     "output_type": "execute_result"
    }
   ],
   "source": [
    "# Code cell for Step 6.3\n",
    "# Plot the model error rate versus the K value, including shaded areas representing the variability of error rate within 1 standard deviation from the mean, \n",
    "# and 3 standard deviations from the mean, respectively.\n",
    "Ks = 12\n",
    "mean_acc = np.zeros((Ks-1))\n",
    "std_acc = np.zeros((Ks-1))\n",
    "\n",
    "for n in range(1,Ks):\n",
    "    \n",
    "    #Train Model and Predict- the highest k is the shape of your data frame; NOT, your whole data set.\n",
    "    neigh = KNeighborsClassifier(n_neighbors = n).fit(X_train,y_train)\n",
    "    yhat=neigh.predict(X_test)\n",
    "    mean_acc[n-1] = metrics.accuracy_score(y_test, yhat)\n",
    "\n",
    "    #This line calculates the standard error of the model's predictions by dividing the standard deviation \n",
    "    #of the boolean comparison between predicted and actual values (yhat == y_test) by the square root of \n",
    "    #the number of predictions, and stores it in the std_acc array starting at index n-1.\n",
    "    std_acc[n-1]=np.std(yhat!=y_test)/np.sqrt(yhat.shape[0])\n",
    "\n",
    "mean_acc\n",
    "#std_acc\n"
   ]
  },
  {
   "cell_type": "code",
   "execution_count": 139,
   "id": "4769808f",
   "metadata": {},
   "outputs": [
    {
     "name": "stdout",
     "output_type": "stream",
     "text": [
      "The best accuracy was with 0.4 with k= 6\n"
     ]
    }
   ],
   "source": [
    "print( \"The best accuracy was with\", mean_acc.max(), \"with k=\", mean_acc.argmax()+1) "
   ]
  },
  {
   "cell_type": "markdown",
   "id": "56d4251c-e20c-41aa-ab97-68800c99a408",
   "metadata": {},
   "source": [
    "Briefly interpret these two charts here. What's the relationship between these two charts?\n",
    "\n",
    "\n",
    "\n"
   ]
  },
  {
   "cell_type": "markdown",
   "id": "0d113180",
   "metadata": {},
   "source": [
    "### Summary and Research Questions.\n",
    "\n",
    "1) Discuss the performance of the model and the effect of different k values.\n",
    "2) Based on the plots of model accuracy and error rate versus k value, why do you think accuracy tends to stabilize beyond a certain value of k?\n",
    "3) \n",
    "How might the choice of k affect the model's performance on unseen data, and what strategies could you use to mitigate overfitting or underfitting with respect to k?"
   ]
  },
  {
   "cell_type": "markdown",
   "id": "f399537a-ff0a-48b0-902d-0503ad9227ec",
   "metadata": {},
   "source": [
    "Write your answers here.\n",
    "\n"
   ]
  },
  {
   "cell_type": "code",
   "execution_count": null,
   "id": "c6e321ba-9a94-4425-9154-66edd04b816a",
   "metadata": {},
   "outputs": [],
   "source": [
    "#The k with the best accuracy is k=6, with an accouracy of 0.4! The error rate is the y axis, and when we initially \n",
    "#caluclated the y == y hat, however it needs to be converted into y != yhat.\n",
    "#I think the model tends to stablize around k=6 because of the y hat value. The y hat value is the predicted value, and \n",
    "#the y value is the target, and the closer the precited value is to the y, our model will have less error, and higher accuracy.\n",
    "#Ks value determines the model positioning, and you can observe the trained model and predict the k, and not the whole data set!"
   ]
  }
 ],
 "metadata": {
  "kernelspec": {
   "display_name": "Python 3 (ipykernel)",
   "language": "python",
   "name": "python3"
  },
  "language_info": {
   "codemirror_mode": {
    "name": "ipython",
    "version": 3
   },
   "file_extension": ".py",
   "mimetype": "text/x-python",
   "name": "python",
   "nbconvert_exporter": "python",
   "pygments_lexer": "ipython3",
   "version": "3.9.13"
  }
 },
 "nbformat": 4,
 "nbformat_minor": 5
}
